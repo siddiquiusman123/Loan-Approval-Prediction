{
 "cells": [
  {
   "cell_type": "markdown",
   "id": "a4d5f68b-b688-4a84-a91c-376abe676563",
   "metadata": {},
   "source": [
    "# Loan Approval Prediction."
   ]
  },
  {
   "cell_type": "code",
   "execution_count": 1,
   "id": "ad8a9102-754e-42bb-a724-7f9cf5557b58",
   "metadata": {},
   "outputs": [],
   "source": [
    "# Import Required Libraries"
   ]
  },
  {
   "cell_type": "code",
   "execution_count": 2,
   "id": "0049e522-7d0b-4e14-b246-010c15362c6d",
   "metadata": {},
   "outputs": [],
   "source": [
    "import pandas as pd\n",
    "import numpy as np\n",
    "import matplotlib.pyplot as plt\n",
    "import seaborn as sns\n",
    "import joblib\n",
    "from sklearn.model_selection import train_test_split , StratifiedKFold , KFold , cross_val_score , GridSearchCV , RandomizedSearchCV\n",
    "from sklearn.preprocessing import OneHotEncoder , LabelEncoder , OrdinalEncoder , StandardScaler , MinMaxScaler\n",
    "from sklearn.linear_model import LogisticRegression\n",
    "from sklearn.svm import SVC\n",
    "from sklearn.neighbors import KNeighborsClassifier\n",
    "from sklearn.tree import DecisionTreeClassifier\n",
    "from sklearn.ensemble import RandomForestClassifier\n",
    "from sklearn.ensemble import AdaBoostClassifier\n",
    "from sklearn.ensemble import GradientBoostingClassifier\n",
    "import xgboost as xgb\n",
    "from imblearn.over_sampling import SMOTE\n",
    "from sklearn.metrics import f1_score , precision_score , recall_score , confusion_matrix , accuracy_score"
   ]
  },
  {
   "cell_type": "code",
   "execution_count": 3,
   "id": "10b90e86-2dfd-4420-a7c4-4b2583bb8248",
   "metadata": {},
   "outputs": [],
   "source": [
    "# Load The Dataset"
   ]
  },
  {
   "cell_type": "code",
   "execution_count": 4,
   "id": "63262938-c29e-47fd-9bdd-f3c7910bb2e3",
   "metadata": {},
   "outputs": [],
   "source": [
    "dataset = pd.read_csv(\"Loan_prediction.csv\")"
   ]
  },
  {
   "cell_type": "code",
   "execution_count": 5,
   "id": "5f737c7d-3436-4750-b26b-d47102b35e1b",
   "metadata": {},
   "outputs": [
    {
     "data": {
      "text/html": [
       "<div>\n",
       "<style scoped>\n",
       "    .dataframe tbody tr th:only-of-type {\n",
       "        vertical-align: middle;\n",
       "    }\n",
       "\n",
       "    .dataframe tbody tr th {\n",
       "        vertical-align: top;\n",
       "    }\n",
       "\n",
       "    .dataframe thead th {\n",
       "        text-align: right;\n",
       "    }\n",
       "</style>\n",
       "<table border=\"1\" class=\"dataframe\">\n",
       "  <thead>\n",
       "    <tr style=\"text-align: right;\">\n",
       "      <th></th>\n",
       "      <th>age</th>\n",
       "      <th>income</th>\n",
       "      <th>assets</th>\n",
       "      <th>credit_score</th>\n",
       "      <th>debt_to_income_ratio</th>\n",
       "      <th>existing_loan</th>\n",
       "      <th>criminal_record</th>\n",
       "      <th>loan_approved</th>\n",
       "    </tr>\n",
       "  </thead>\n",
       "  <tbody>\n",
       "    <tr>\n",
       "      <th>0</th>\n",
       "      <td>56.0</td>\n",
       "      <td>53779.0</td>\n",
       "      <td>771450.000000</td>\n",
       "      <td>700.0</td>\n",
       "      <td>0.45</td>\n",
       "      <td>1</td>\n",
       "      <td>0</td>\n",
       "      <td>0</td>\n",
       "    </tr>\n",
       "    <tr>\n",
       "      <th>1</th>\n",
       "      <td>65.0</td>\n",
       "      <td>141745.0</td>\n",
       "      <td>525485.720059</td>\n",
       "      <td>889.0</td>\n",
       "      <td>0.34</td>\n",
       "      <td>1</td>\n",
       "      <td>1</td>\n",
       "      <td>0</td>\n",
       "    </tr>\n",
       "    <tr>\n",
       "      <th>2</th>\n",
       "      <td>60.0</td>\n",
       "      <td>37340.0</td>\n",
       "      <td>459420.000000</td>\n",
       "      <td>788.0</td>\n",
       "      <td>0.35</td>\n",
       "      <td>0</td>\n",
       "      <td>1</td>\n",
       "      <td>0</td>\n",
       "    </tr>\n",
       "    <tr>\n",
       "      <th>3</th>\n",
       "      <td>61.0</td>\n",
       "      <td>101388.0</td>\n",
       "      <td>168102.000000</td>\n",
       "      <td>831.0</td>\n",
       "      <td>0.32</td>\n",
       "      <td>1</td>\n",
       "      <td>1</td>\n",
       "      <td>0</td>\n",
       "    </tr>\n",
       "    <tr>\n",
       "      <th>4</th>\n",
       "      <td>27.0</td>\n",
       "      <td>83269.0</td>\n",
       "      <td>187546.000000</td>\n",
       "      <td>691.0</td>\n",
       "      <td>0.21</td>\n",
       "      <td>0</td>\n",
       "      <td>0</td>\n",
       "      <td>0</td>\n",
       "    </tr>\n",
       "  </tbody>\n",
       "</table>\n",
       "</div>"
      ],
      "text/plain": [
       "    age    income         assets  credit_score  debt_to_income_ratio  \\\n",
       "0  56.0   53779.0  771450.000000         700.0                  0.45   \n",
       "1  65.0  141745.0  525485.720059         889.0                  0.34   \n",
       "2  60.0   37340.0  459420.000000         788.0                  0.35   \n",
       "3  61.0  101388.0  168102.000000         831.0                  0.32   \n",
       "4  27.0   83269.0  187546.000000         691.0                  0.21   \n",
       "\n",
       "   existing_loan  criminal_record  loan_approved  \n",
       "0              1                0              0  \n",
       "1              1                1              0  \n",
       "2              0                1              0  \n",
       "3              1                1              0  \n",
       "4              0                0              0  "
      ]
     },
     "execution_count": 5,
     "metadata": {},
     "output_type": "execute_result"
    }
   ],
   "source": [
    "dataset.head()"
   ]
  },
  {
   "cell_type": "code",
   "execution_count": 6,
   "id": "1811034c-2ead-474b-a1f4-c2d0aa2923df",
   "metadata": {},
   "outputs": [
    {
     "name": "stdout",
     "output_type": "stream",
     "text": [
      "<class 'pandas.core.frame.DataFrame'>\n",
      "RangeIndex: 12367 entries, 0 to 12366\n",
      "Data columns (total 8 columns):\n",
      " #   Column                Non-Null Count  Dtype  \n",
      "---  ------                --------------  -----  \n",
      " 0   age                   12367 non-null  float64\n",
      " 1   income                12367 non-null  float64\n",
      " 2   assets                12367 non-null  float64\n",
      " 3   credit_score          12367 non-null  float64\n",
      " 4   debt_to_income_ratio  12367 non-null  float64\n",
      " 5   existing_loan         12367 non-null  int64  \n",
      " 6   criminal_record       12367 non-null  int64  \n",
      " 7   loan_approved         12367 non-null  int64  \n",
      "dtypes: float64(5), int64(3)\n",
      "memory usage: 773.1 KB\n"
     ]
    }
   ],
   "source": [
    "dataset.info()"
   ]
  },
  {
   "cell_type": "code",
   "execution_count": 7,
   "id": "e2d84f1a-32a4-4fc1-aed8-bc0cdc1d1756",
   "metadata": {},
   "outputs": [
    {
     "data": {
      "text/html": [
       "<div>\n",
       "<style scoped>\n",
       "    .dataframe tbody tr th:only-of-type {\n",
       "        vertical-align: middle;\n",
       "    }\n",
       "\n",
       "    .dataframe tbody tr th {\n",
       "        vertical-align: top;\n",
       "    }\n",
       "\n",
       "    .dataframe thead th {\n",
       "        text-align: right;\n",
       "    }\n",
       "</style>\n",
       "<table border=\"1\" class=\"dataframe\">\n",
       "  <thead>\n",
       "    <tr style=\"text-align: right;\">\n",
       "      <th></th>\n",
       "      <th>age</th>\n",
       "      <th>income</th>\n",
       "      <th>assets</th>\n",
       "      <th>credit_score</th>\n",
       "      <th>debt_to_income_ratio</th>\n",
       "      <th>existing_loan</th>\n",
       "      <th>criminal_record</th>\n",
       "      <th>loan_approved</th>\n",
       "    </tr>\n",
       "  </thead>\n",
       "  <tbody>\n",
       "    <tr>\n",
       "      <th>count</th>\n",
       "      <td>12367.000000</td>\n",
       "      <td>12367.000000</td>\n",
       "      <td>12367.000000</td>\n",
       "      <td>12367.000000</td>\n",
       "      <td>12367.000000</td>\n",
       "      <td>12367.000000</td>\n",
       "      <td>12367.000000</td>\n",
       "      <td>12367.000000</td>\n",
       "    </tr>\n",
       "    <tr>\n",
       "      <th>mean</th>\n",
       "      <td>42.487179</td>\n",
       "      <td>90571.593927</td>\n",
       "      <td>525485.720059</td>\n",
       "      <td>699.098996</td>\n",
       "      <td>0.300905</td>\n",
       "      <td>0.509097</td>\n",
       "      <td>0.497129</td>\n",
       "      <td>0.113771</td>\n",
       "    </tr>\n",
       "    <tr>\n",
       "      <th>std</th>\n",
       "      <td>12.974479</td>\n",
       "      <td>34030.096771</td>\n",
       "      <td>273230.290942</td>\n",
       "      <td>115.078515</td>\n",
       "      <td>0.113162</td>\n",
       "      <td>0.499937</td>\n",
       "      <td>0.500012</td>\n",
       "      <td>0.317545</td>\n",
       "    </tr>\n",
       "    <tr>\n",
       "      <th>min</th>\n",
       "      <td>20.000000</td>\n",
       "      <td>30006.000000</td>\n",
       "      <td>50013.000000</td>\n",
       "      <td>500.000000</td>\n",
       "      <td>0.100000</td>\n",
       "      <td>0.000000</td>\n",
       "      <td>0.000000</td>\n",
       "      <td>0.000000</td>\n",
       "    </tr>\n",
       "    <tr>\n",
       "      <th>25%</th>\n",
       "      <td>32.000000</td>\n",
       "      <td>61478.000000</td>\n",
       "      <td>291596.000000</td>\n",
       "      <td>601.000000</td>\n",
       "      <td>0.200000</td>\n",
       "      <td>0.000000</td>\n",
       "      <td>0.000000</td>\n",
       "      <td>0.000000</td>\n",
       "    </tr>\n",
       "    <tr>\n",
       "      <th>50%</th>\n",
       "      <td>42.487179</td>\n",
       "      <td>90571.593927</td>\n",
       "      <td>525485.720059</td>\n",
       "      <td>699.098996</td>\n",
       "      <td>0.300905</td>\n",
       "      <td>1.000000</td>\n",
       "      <td>0.000000</td>\n",
       "      <td>0.000000</td>\n",
       "    </tr>\n",
       "    <tr>\n",
       "      <th>75%</th>\n",
       "      <td>53.000000</td>\n",
       "      <td>119635.000000</td>\n",
       "      <td>761670.500000</td>\n",
       "      <td>799.000000</td>\n",
       "      <td>0.400000</td>\n",
       "      <td>1.000000</td>\n",
       "      <td>1.000000</td>\n",
       "      <td>0.000000</td>\n",
       "    </tr>\n",
       "    <tr>\n",
       "      <th>max</th>\n",
       "      <td>65.000000</td>\n",
       "      <td>149976.000000</td>\n",
       "      <td>999984.000000</td>\n",
       "      <td>900.000000</td>\n",
       "      <td>0.500000</td>\n",
       "      <td>1.000000</td>\n",
       "      <td>1.000000</td>\n",
       "      <td>1.000000</td>\n",
       "    </tr>\n",
       "  </tbody>\n",
       "</table>\n",
       "</div>"
      ],
      "text/plain": [
       "                age         income         assets  credit_score  \\\n",
       "count  12367.000000   12367.000000   12367.000000  12367.000000   \n",
       "mean      42.487179   90571.593927  525485.720059    699.098996   \n",
       "std       12.974479   34030.096771  273230.290942    115.078515   \n",
       "min       20.000000   30006.000000   50013.000000    500.000000   \n",
       "25%       32.000000   61478.000000  291596.000000    601.000000   \n",
       "50%       42.487179   90571.593927  525485.720059    699.098996   \n",
       "75%       53.000000  119635.000000  761670.500000    799.000000   \n",
       "max       65.000000  149976.000000  999984.000000    900.000000   \n",
       "\n",
       "       debt_to_income_ratio  existing_loan  criminal_record  loan_approved  \n",
       "count          12367.000000   12367.000000     12367.000000   12367.000000  \n",
       "mean               0.300905       0.509097         0.497129       0.113771  \n",
       "std                0.113162       0.499937         0.500012       0.317545  \n",
       "min                0.100000       0.000000         0.000000       0.000000  \n",
       "25%                0.200000       0.000000         0.000000       0.000000  \n",
       "50%                0.300905       1.000000         0.000000       0.000000  \n",
       "75%                0.400000       1.000000         1.000000       0.000000  \n",
       "max                0.500000       1.000000         1.000000       1.000000  "
      ]
     },
     "execution_count": 7,
     "metadata": {},
     "output_type": "execute_result"
    }
   ],
   "source": [
    "dataset.describe()"
   ]
  },
  {
   "cell_type": "code",
   "execution_count": 8,
   "id": "0d71744d-f282-40a1-b7a1-7e624c313e4c",
   "metadata": {},
   "outputs": [],
   "source": [
    "# Data Preprocessing"
   ]
  },
  {
   "cell_type": "code",
   "execution_count": 9,
   "id": "4aa7dcf0-67e2-433b-981d-588ea9ba6709",
   "metadata": {},
   "outputs": [],
   "source": [
    "# checking null values"
   ]
  },
  {
   "cell_type": "code",
   "execution_count": 10,
   "id": "6589196b-4296-4026-890a-9443fe152324",
   "metadata": {},
   "outputs": [
    {
     "data": {
      "text/plain": [
       "age                     0\n",
       "income                  0\n",
       "assets                  0\n",
       "credit_score            0\n",
       "debt_to_income_ratio    0\n",
       "existing_loan           0\n",
       "criminal_record         0\n",
       "loan_approved           0\n",
       "dtype: int64"
      ]
     },
     "execution_count": 10,
     "metadata": {},
     "output_type": "execute_result"
    }
   ],
   "source": [
    "dataset.isnull().sum()"
   ]
  },
  {
   "cell_type": "code",
   "execution_count": 11,
   "id": "9294631e-9133-4772-bc32-fce1c1424456",
   "metadata": {},
   "outputs": [],
   "source": [
    "# Removing Duplicate rows"
   ]
  },
  {
   "cell_type": "code",
   "execution_count": 12,
   "id": "b1b58e7f-8db4-4ec3-88c0-4eeebd74bd2e",
   "metadata": {},
   "outputs": [
    {
     "data": {
      "text/plain": [
       "0"
      ]
     },
     "execution_count": 12,
     "metadata": {},
     "output_type": "execute_result"
    }
   ],
   "source": [
    "dataset.duplicated().sum()"
   ]
  },
  {
   "cell_type": "code",
   "execution_count": 13,
   "id": "ab7b596c-5d4d-480f-adf3-77600d5dd3d2",
   "metadata": {},
   "outputs": [],
   "source": [
    "# Outliers"
   ]
  },
  {
   "cell_type": "code",
   "execution_count": 14,
   "id": "5c0785ba-9fda-47e0-9918-883a5471a26c",
   "metadata": {},
   "outputs": [
    {
     "data": {
      "image/png": "[encoded data removed]",
      "text/plain": [
       "<Figure size 640x480 with 1 Axes>"
      ]
     },
     "metadata": {},
     "output_type": "display_data"
    }
   ],
   "source": [
    "plt.boxplot(dataset[['age','income','assets','credit_score','debt_to_income_ratio','existing_loan','criminal_record']])\n",
    "plt.show()"
   ]
  },
  {
   "cell_type": "code",
   "execution_count": 15,
   "id": "4f3fd015-c995-4af7-a5b9-c0228b2ab5da",
   "metadata": {},
   "outputs": [],
   "source": [
    "# Spliting The Data Into Train And Test"
   ]
  },
  {
   "cell_type": "code",
   "execution_count": 16,
   "id": "c5252501-874c-4823-8e8b-6a315d7bc942",
   "metadata": {},
   "outputs": [],
   "source": [
    "x = dataset.iloc[:,:-1]\n",
    "y = dataset['loan_approved']"
   ]
  },
  {
   "cell_type": "code",
   "execution_count": 17,
   "id": "c7b2c4a8-fad9-4560-90fb-8b7352548bba",
   "metadata": {},
   "outputs": [],
   "source": [
    "X_train , X_test , Y_train , Y_test = train_test_split(x , y , test_size=0.2 , random_state=42)"
   ]
  },
  {
   "cell_type": "code",
   "execution_count": 18,
   "id": "fb6164a0-7e80-4ce9-9518-cf0c7667ed93",
   "metadata": {},
   "outputs": [
    {
     "name": "stdout",
     "output_type": "stream",
     "text": [
      "Testing Shape : (2474, 7)\n",
      "Trainging Shape : (9893, 7)\n"
     ]
    }
   ],
   "source": [
    "print(f\"Testing Shape : {X_test.shape}\")\n",
    "print(f\"Trainging Shape : {X_train.shape}\")"
   ]
  },
  {
   "cell_type": "code",
   "execution_count": 19,
   "id": "477e842e-afbf-4320-836c-fa2569a76f35",
   "metadata": {},
   "outputs": [],
   "source": [
    "# Scaling The Data"
   ]
  },
  {
   "cell_type": "code",
   "execution_count": 20,
   "id": "7d7c87d8-7736-43d8-bcf6-9dc6de15e099",
   "metadata": {},
   "outputs": [],
   "source": [
    "numeric_colum = X_train.select_dtypes(include=['int64','float64']).columns"
   ]
  },
  {
   "cell_type": "code",
   "execution_count": 21,
   "id": "2d64e444-4259-4b5e-a905-2a945537102a",
   "metadata": {},
   "outputs": [],
   "source": [
    "scaler = StandardScaler()"
   ]
  },
  {
   "cell_type": "code",
   "execution_count": 22,
   "id": "ffd8c553-0132-4ef5-a5ba-cc74ad1b157a",
   "metadata": {},
   "outputs": [],
   "source": [
    "X_train[numeric_colum] = scaler.fit_transform(X_train[numeric_colum])\n",
    "X_test[numeric_colum] = scaler.transform(X_test[numeric_colum])"
   ]
  },
  {
   "cell_type": "code",
   "execution_count": 23,
   "id": "cfc3224b-5505-47ee-8d69-2d80e1eb7d3e",
   "metadata": {},
   "outputs": [],
   "source": [
    "# Model Training"
   ]
  },
  {
   "cell_type": "code",
   "execution_count": 24,
   "id": "bbc6cca0-8339-4e04-a9e3-3757fdecf346",
   "metadata": {},
   "outputs": [],
   "source": [
    "# Balancing The Class Distribution"
   ]
  },
  {
   "cell_type": "code",
   "execution_count": 25,
   "id": "abf292e2-0bbd-41c5-99d4-f89c5b4bdf95",
   "metadata": {},
   "outputs": [
    {
     "name": "stdout",
     "output_type": "stream",
     "text": [
      "Before Class Distribution {0: 8773, 1: 1120}\n"
     ]
    }
   ],
   "source": [
    "value , count = np.unique(Y_train , return_counts=True)\n",
    "before = dict(zip(value ,count))\n",
    "print(f\"Before Class Distribution {before}\")"
   ]
  },
  {
   "cell_type": "code",
   "execution_count": 26,
   "id": "54b59678-2c0a-4cdc-b3d6-7b2f4ef55165",
   "metadata": {},
   "outputs": [
    {
     "name": "stdout",
     "output_type": "stream",
     "text": [
      "Shape before : (9893,)\n"
     ]
    }
   ],
   "source": [
    "print(f\"Shape before : {Y_train.shape}\")"
   ]
  },
  {
   "cell_type": "code",
   "execution_count": 27,
   "id": "4f702ddb-2013-4ffe-96b7-9e8d33751a95",
   "metadata": {},
   "outputs": [],
   "source": [
    "sm = SMOTE()"
   ]
  },
  {
   "cell_type": "code",
   "execution_count": 28,
   "id": "292db4a3-07e6-4fdf-9261-5dd401f8a6c9",
   "metadata": {},
   "outputs": [],
   "source": [
    "x_train , y_train = sm.fit_resample(X_train , Y_train)"
   ]
  },
  {
   "cell_type": "code",
   "execution_count": 29,
   "id": "ab7257b2-c427-46ea-8bfa-ee45ce1ad162",
   "metadata": {},
   "outputs": [
    {
     "name": "stdout",
     "output_type": "stream",
     "text": [
      "After Class Distribution : {0: 8773, 1: 8773}\n",
      "Shape After (17546, 7)\n"
     ]
    }
   ],
   "source": [
    "value2 , count2 = np.unique(y_train , return_counts=True)\n",
    "after = dict(zip(value2 , count2))\n",
    "print(f\"After Class Distribution : {after}\")\n",
    "print(f\"Shape After {x_train.shape}\")"
   ]
  },
  {
   "cell_type": "code",
   "execution_count": 30,
   "id": "f7666982-9ba0-4d80-ae40-f2d7a54fd6e1",
   "metadata": {},
   "outputs": [],
   "source": [
    "models = {\n",
    "\n",
    "    'Logistic Regression' : LogisticRegression(),\n",
    "    'KNN' : KNeighborsClassifier(),\n",
    "    'SVM' : SVC(),\n",
    "    'Decision Tree':DecisionTreeClassifier(),\n",
    "    'Random Forest':RandomForestClassifier(),\n",
    "    'AdaBoost':AdaBoostClassifier(),\n",
    "    'GradientBoost':GradientBoostingClassifier(),\n",
    "    'XGBoost':xgb.XGBClassifier()\n",
    "}"
   ]
  },
  {
   "cell_type": "code",
   "execution_count": 31,
   "id": "093baa49-3f5d-4f0b-a0e8-0e70427c14c9",
   "metadata": {},
   "outputs": [
    {
     "name": "stdout",
     "output_type": "stream",
     "text": [
      "Logistic Regression | Accuracy Score : 93.048%\n",
      "Logistic Regression | Mean F1-Score After CV : 94.812\n",
      "\n",
      "KNN | Accuracy Score : 96.120%\n",
      "KNN | Mean F1-Score After CV : 97.505\n",
      "\n",
      "SVM | Accuracy Score : 97.817%\n",
      "SVM | Mean F1-Score After CV : 98.644\n",
      "\n",
      "Decision Tree | Accuracy Score : 100.000%\n",
      "Decision Tree | Mean F1-Score After CV : 99.994\n",
      "\n",
      "Random Forest | Accuracy Score : 99.960%\n",
      "Random Forest | Mean F1-Score After CV : 99.989\n",
      "\n",
      "AdaBoost | Accuracy Score : 100.000%\n",
      "AdaBoost | Mean F1-Score After CV : 100.000\n",
      "\n",
      "GradientBoost | Accuracy Score : 100.000%\n",
      "GradientBoost | Mean F1-Score After CV : 100.000\n",
      "\n",
      "XGBoost | Accuracy Score : 100.000%\n",
      "XGBoost | Mean F1-Score After CV : 100.000\n",
      "\n"
     ]
    }
   ],
   "source": [
    "for name , model in models.items():\n",
    "    model.fit(x_train , y_train)\n",
    "    y_pred = model.predict(X_test)\n",
    "    print(f\"{name} | Accuracy Score : {accuracy_score(Y_test , y_pred)*100:.3f}%\")\n",
    "    cv = StratifiedKFold(n_splits=5, shuffle=True, random_state=42)\n",
    "    scores = cross_val_score(model , x_train , y_train , cv=cv , scoring='f1')\n",
    "    print(f\"{name} | Mean F1-Score After CV : {np.mean(scores)*100:.3f}\\n\")"
   ]
  },
  {
   "cell_type": "code",
   "execution_count": 32,
   "id": "1ff3defd-2bcb-408d-805b-29001fde4459",
   "metadata": {},
   "outputs": [],
   "source": [
    "# best Model"
   ]
  },
  {
   "cell_type": "code",
   "execution_count": 33,
   "id": "f22c326b-c360-4ac1-bac2-5d5538658147",
   "metadata": {},
   "outputs": [],
   "source": [
    "best_model = GradientBoostingClassifier(max_depth=5, n_estimators=100)\n",
    "best_model.fit(x_train , y_train)\n",
    "y_pred = best_model.predict(X_test)"
   ]
  },
  {
   "cell_type": "code",
   "execution_count": 34,
   "id": "1b35a8e6-b369-40cf-9c84-5a21c5e62447",
   "metadata": {},
   "outputs": [],
   "source": [
    "# Model Evaluation"
   ]
  },
  {
   "cell_type": "code",
   "execution_count": 35,
   "id": "be309270-b466-48ab-81db-2c0546b35c79",
   "metadata": {},
   "outputs": [
    {
     "name": "stdout",
     "output_type": "stream",
     "text": [
      "Training Score : 100.0%\n",
      "Testing Score : 100.0%\n",
      "Accuracy Score : 100.0\n",
      "Recall Score : 100.0\n",
      "Precsion Score : 100.0\n",
      "F1 Score : 100.0\n"
     ]
    }
   ],
   "source": [
    "print(f\"Training Score : {best_model.score(x_train , y_train)*100}%\")\n",
    "print(f\"Testing Score : {best_model.score(X_test , Y_test)*100}%\")\n",
    "print(\"Accuracy Score :\",accuracy_score(y_pred,Y_test)*100)\n",
    "print(\"Recall Score :\",round(recall_score(y_pred,Y_test)*100,3))\n",
    "print(\"Precsion Score :\",round(precision_score(y_pred,Y_test)*100,3))\n",
    "print(\"F1 Score :\",round(f1_score(y_pred,Y_test)*100,3))"
   ]
  },
  {
   "cell_type": "code",
   "execution_count": 36,
   "id": "271b52fc-6156-45f0-860e-72e37cb87174",
   "metadata": {},
   "outputs": [],
   "source": [
    "# confusion Matrix"
   ]
  },
  {
   "cell_type": "code",
   "execution_count": 37,
   "id": "62fb9814-0a31-4046-91e2-161ee6478d38",
   "metadata": {},
   "outputs": [
    {
     "data": {
      "image/png": "[encoded data removed]",
      "text/plain": [
       "<Figure size 640x480 with 2 Axes>"
      ]
     },
     "metadata": {},
     "output_type": "display_data"
    }
   ],
   "source": [
    "cm = confusion_matrix(Y_test , y_pred)\n",
    "sns.heatmap(data=cm , annot=True , fmt='g',cmap='Blues')\n",
    "plt.show()"
   ]
  },
  {
   "cell_type": "code",
   "execution_count": 38,
   "id": "10966eda-4624-4928-9d21-ba16e9d8e03e",
   "metadata": {},
   "outputs": [],
   "source": [
    "# Save The Model"
   ]
  },
  {
   "cell_type": "code",
   "execution_count": 39,
   "id": "32416bc6-22a6-4441-9c09-d769de800fb4",
   "metadata": {},
   "outputs": [
    {
     "name": "stdout",
     "output_type": "stream",
     "text": [
      "Saved Successfully\n"
     ]
    }
   ],
   "source": [
    "joblib.dump(best_model , \"Loan_prd_model.pkl\")\n",
    "joblib.dump(scaler , \"Loan_prd_scaler.pkl\")\n",
    "print(\"Saved Successfully\")"
   ]
  },
  {
   "cell_type": "code",
   "execution_count": null,
   "id": "be714dae-7cfd-4fcc-b6ad-824392d03f30",
   "metadata": {},
   "outputs": [],
   "source": []
  }
 ],
 "metadata": {
  "kernelspec": {
   "display_name": "Python 3 (ipykernel)",
   "language": "python",
   "name": "python3"
  },
  "language_info": {
   "codemirror_mode": {
    "name": "ipython",
    "version": 3
   },
   "file_extension": ".py",
   "mimetype": "text/x-python",
   "name": "python",
   "nbconvert_exporter": "python",
   "pygments_lexer": "ipython3",
   "version": "3.12.3"
  }
 },
 "nbformat": 4,
 "nbformat_minor": 5
}
